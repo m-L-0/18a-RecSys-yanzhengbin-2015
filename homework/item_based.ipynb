{
 "cells": [
  {
   "cell_type": "code",
   "execution_count": 1,
   "metadata": {},
   "outputs": [],
   "source": [
    "import math\n",
    "from operator import itemgetter\n",
    "\n",
    "\n",
    "#读取电影数据\n",
    "def load_movielens(path='./movielens/ml-100k'):\n",
    "    # get movie titles\n",
    "    movies = {}\n",
    "    for line in open(path + '/u.item', encoding='latin-1'):\n",
    "        id, title = line.split('|')[0:2]\n",
    "        movies[id] = title\n",
    "    # load data\n",
    "    prefs = {}\n",
    "    for line in open(path + '/u.data', encoding='latin-1'):\n",
    "        user, movieid, rating, ts = line.split('\\t')\n",
    "        prefs.setdefault(user, {})\n",
    "        prefs[user][movies[movieid]] = float(rating)\n",
    "    return prefs\n",
    "\n",
    "\n",
    "def itemsim(prefs):\n",
    "    user_item = {}\n",
    "    for user, item in prefs.items():\n",
    "        for i in item.keys():\n",
    "            if user not in user_item.keys():\n",
    "                user_item[user] = set()\n",
    "            user_item[user].add(i)\n",
    "    c = dict()\n",
    "    d = dict()\n",
    "    for user, item in user_item.items():\n",
    "        for i in item:\n",
    "            if i not in d.keys():\n",
    "                d[i] = 0\n",
    "            d[i] += 1\n",
    "            for j in item:\n",
    "                if i == j:\n",
    "                    continue\n",
    "                if (i,j) not in c.keys():\n",
    "                    c[i,j] = 0\n",
    "                c[i,j] += 1\n",
    "    w = {}\n",
    "    for items, cuv in c.items():\n",
    "        w[items] = cuv / math.sqrt(d[items[0]] * d[items[1]])\n",
    "    return w\n",
    "        \n",
    "def match(user, dicc, w, k):\n",
    "    rvi = 1\n",
    "    rank = {}\n",
    "    related_user= []\n",
    "    interacted_items = dicc[user].keys()\n",
    "    for co_user, item in w.items():\n",
    "        if co_user[0] == user:\n",
    "            related_user.append((co_user[1], item))\n",
    "    for v, wuv in sorted(related_user, key=itemgetter(1), reverse=True)[0: k]:\n",
    "        for i in dicc[v]:\n",
    "            if i in dicc[v]:\n",
    "                if i in interacted_items:\n",
    "                    continue\n",
    "                if i not in rank.keys():\n",
    "                    rank[i] = 0\n",
    "                rank[i] += wuv * rvi\n",
    "    return rank\n",
    "\n",
    "prefs = load_movielens()\n",
    "w = itemsim(prefs)\n",
    "last = match('176', prefs, w, 4)\n"
   ]
  },
  {
   "cell_type": "code",
   "execution_count": null,
   "metadata": {
    "collapsed": true
   },
   "outputs": [],
   "source": []
  }
 ],
 "metadata": {
  "kernelspec": {
   "display_name": "Python 3",
   "language": "python",
   "name": "python3"
  },
  "language_info": {
   "codemirror_mode": {
    "name": "ipython",
    "version": 3
   },
   "file_extension": ".py",
   "mimetype": "text/x-python",
   "name": "python",
   "nbconvert_exporter": "python",
   "pygments_lexer": "ipython3",
   "version": "3.6.0"
  }
 },
 "nbformat": 4,
 "nbformat_minor": 2
}
