{
 "cells": [
  {
   "cell_type": "code",
   "execution_count": 18,
   "metadata": {},
   "outputs": [
    {
     "name": "stdout",
     "output_type": "stream",
     "text": [
      "{'Great White Hype, The (1996)': 0.9429489154119709, \"Things to Do in Denver when You're Dead (1995)\": 0.9429489154119709, 'Georgia (1995)': 0.48304589153964794, 'Broken Arrow (1996)': 1.402027000460738, 'Breaking the Waves (1996)': 0.48304589153964794, \"Antonia's Line (1995)\": 0.48304589153964794, 'Breakdown (1997)': 1.402027000460738, 'Celluloid Closet, The (1995)': 0.9421239765884151, 'Big Night (1996)': 0.9429489154119709, 'Looking for Richard (1996)': 0.48304589153964794, 'Phenomenon (1996)': 0.9429489154119709, 'Tin Cup (1996)': 0.48304589153964794, 'Twister (1996)': 0.9421239765884151, 'Grosse Pointe Blank (1997)': 0.9429489154119709, 'Bottle Rocket (1996)': 0.9429489154119709, 'Toy Story (1995)': 1.402027000460738, 'Emma (1996)': 0.48304589153964794, 'Courage Under Fire (1996)': 0.9429489154119709, 'Mars Attacks! (1996)': 0.9429489154119709, 'Wonderland (1997)': 0.48304589153964794, 'Leaving Las Vegas (1995)': 0.9429489154119709, 'Dead Man Walking (1995)': 0.48304589153964794, 'Get on the Bus (1996)': 0.48304589153964794, 'Anne Frank Remembered (1995)': 0.48304589153964794, 'Absolute Power (1997)': 0.48304589153964794, 'Restoration (1995)': 0.48304589153964794, 'Ransom (1996)': 1.402027000460738, 'Lone Star (1996)': 0.9429489154119709, 'Bed of Roses (1996)': 0.45990302387232296, 'My Fellow Americans (1996)': 0.45990302387232296, 'Jackie Brown (1997)': 0.45990302387232296, 'Starship Troopers (1997)': 0.45990302387232296, 'Saint, The (1997)': 0.91898110892109, 'Life Less Ordinary, A (1997)': 0.45990302387232296, 'Kolya (1996)': 0.45990302387232296, 'One Fine Day (1996)': 0.45990302387232296, 'Kids in the Hall: Brain Candy (1996)': 0.45990302387232296, 'White Squall (1996)': 0.91898110892109, 'Traveller (1997)': 0.45990302387232296, 'Multiplicity (1996)': 0.45990302387232296, 'Trees Lounge (1996)': 0.45990302387232296, 'Austin Powers: International Man of Mystery (1997)': 0.45990302387232296, 'Sleepers (1996)': 0.45990302387232296, \"McHale's Navy (1997)\": 0.45990302387232296, 'Man Who Knew Too Little, The (1997)': 0.45990302387232296, 'Game, The (1997)': 0.91898110892109, 'Long Kiss Goodnight, The (1996)': 0.45990302387232296, 'Grumpier Old Men (1995)': 0.45990302387232296, \"She's the One (1996)\": 0.45990302387232296, \"Dante's Peak (1997)\": 0.91898110892109, 'High School High (1996)': 0.45990302387232296, 'Volcano (1997)': 0.91898110892109, 'Event Horizon (1997)': 0.45990302387232296, 'Con Air (1997)': 0.45990302387232296, 'Primal Fear (1996)': 0.45990302387232296, 'Frighteners, The (1996)': 0.91898110892109, \"I'm Not Rappaport (1996)\": 0.45990302387232296, 'Speed 2: Cruise Control (1997)': 0.45990302387232296, 'Great Expectations (1998)': 0.45990302387232296, 'Spawn (1997)': 0.91898110892109, 'Full Monty, The (1997)': 0.45990302387232296, 'Postino, Il (1994)': 0.91898110892109, 'Eraser (1996)': 0.45990302387232296, 'Escape from L.A. (1996)': 0.45990302387232296, 'Rumble in the Bronx (1995)': 0.45990302387232296, \"Mr. Holland's Opus (1995)\": 0.91898110892109, 'James and the Giant Peach (1996)': 0.91898110892109, \"Devil's Own, The (1997)\": 0.45990302387232296, 'Air Force One (1997)': 0.91898110892109, 'Happy Gilmore (1996)': 0.45990302387232296, \"Jackie Chan's First Strike (1996)\": 0.45990302387232296, 'Cable Guy, The (1996)': 0.45990302387232296, 'Godfather, The (1972)': 0.45990302387232296, 'Craft, The (1996)': 0.45990302387232296, 'Postman, The (1997)': 0.45990302387232296, 'Titanic (1997)': 0.45990302387232296, 'Mother Night (1996)': 0.45990302387232296, \"Devil's Advocate, The (1997)\": 0.45990302387232296, 'That Thing You Do! (1996)': 0.45990302387232296, 'Matilda (1996)': 0.91898110892109, 'Seven Years in Tibet (1997)': 0.45990302387232296, 'As Good As It Gets (1997)': 0.45990302387232296, 'Trigger Effect, The (1996)': 0.45990302387232296, 'Extreme Measures (1996)': 0.45990302387232296, 'Jack and Sarah (1995)': 0.45990302387232296, 'Desperate Measures (1998)': 0.45990302387232296, 'Hercules (1997)': 0.45990302387232296, 'Independence Day (ID4) (1996)': 0.45990302387232296, 'L.A. Confidential (1997)': 0.91898110892109, 'Basquiat (1996)': 0.45990302387232296, 'Midnight in the Garden of Good and Evil (1997)': 0.45990302387232296, 'Nutty Professor, The (1996)': 0.45990302387232296, 'Four Rooms (1995)': 0.45990302387232296, \"Don't Be a Menace to South Central While Drinking Your Juice in the Hood (1996)\": 0.45990302387232296, 'City Hall (1996)': 0.45990302387232296, 'Beautiful Girls (1996)': 0.45990302387232296, 'Kingpin (1996)': 0.91898110892109, 'Spitfire Grill, The (1996)': 0.45990302387232296, 'Jackal, The (1997)': 0.45990302387232296, \"My Best Friend's Wedding (1997)\": 0.91898110892109, 'Peacemaker, The (1997)': 0.45990302387232296, 'Time to Kill, A (1996)': 0.91898110892109, 'Fan, The (1996)': 0.45990302387232296, 'Touch (1997)': 0.45990302387232296, 'In & Out (1997)': 0.91898110892109, 'G.I. Jane (1997)': 0.91898110892109, 'Michael (1996)': 0.45990302387232296, 'Rainmaker, The (1997)': 0.45990302387232296, 'Sense and Sensibility (1995)': 0.91898110892109, 'Bulletproof (1996)': 0.45990302387232296, 'Faithful (1996)': 0.45990302387232296, 'Pillow Book, The (1995)': 0.45907808504876707, \"Smilla's Sense of Snow (1997)\": 0.45907808504876707, 'Edge, The (1997)': 0.45907808504876707, 'Beautician and the Beast, The (1997)': 0.45907808504876707, 'U Turn (1997)': 0.45907808504876707, 'Harriet the Spy (1996)': 0.45907808504876707, 'Brassed Off (1996)': 0.45907808504876707, 'Hunchback of Notre Dame, The (1996)': 0.45907808504876707, 'Thousand Acres, A (1997)': 0.45907808504876707}\n"
     ]
    }
   ],
   "source": [
    "import math\n",
    "from operator import itemgetter\n",
    "\n",
    "\n",
    "#读取电影数据\n",
    "def load_movielens(path='./movielens/ml-100k'):\n",
    "    # get movie titles\n",
    "    movies = {}\n",
    "    for line in open(path + '/u.item', encoding='latin-1'):\n",
    "        id, title = line.split('|')[0:2]\n",
    "        movies[id] = title\n",
    "    # load data\n",
    "    prefs = {}\n",
    "    for line in open(path + '/u.data', encoding='latin-1'):\n",
    "        user, movieid, rating, ts = line.split('\\t')\n",
    "        prefs.setdefault(user, {})\n",
    "        prefs[user][movies[movieid]] = float(rating)\n",
    "    return prefs, movies\n",
    "\n",
    "# 建立物品-用户的倒序表，并计算用户相似度\n",
    "def usersim(dicc):\n",
    "    item_user = {}\n",
    "    for u, items in dicc.items():\n",
    "        for i in items.keys():\n",
    "            if i not in item_user.keys():\n",
    "                item_user[i] = set()\n",
    "            item_user[i].add(u)\n",
    "    c = {}\n",
    "    n = {}\n",
    "    for item, users in item_user.items():\n",
    "        for u in users:\n",
    "            if u not in n.keys():\n",
    "                n[u] = 0\n",
    "            n[u] += 1\n",
    "            for v in users:\n",
    "                if u == v:\n",
    "                    continue\n",
    "                if (u,v) not in c.keys():\n",
    "                    c[u,v] = 0\n",
    "                c[u,v] += 1\n",
    "    w = {}\n",
    "    for co_user, cuv in c.items():\n",
    "        w[co_user] = cuv / math.sqrt(n[co_user[0]] * n[co_user[1]])\n",
    "    return w\n",
    "\n",
    "# 根据用户相似度，向用户推荐相似用户的产品\n",
    "def match(user, dicc, w, k):\n",
    "    rvi = 1\n",
    "    rank = {}\n",
    "    related_user= []\n",
    "    interacted_items = dicc[user].keys()\n",
    "    for co_user, item in w.items():\n",
    "        if co_user[0] == user:\n",
    "            related_user.append((co_user[1], item))\n",
    "    for v, wuv in sorted(related_user, key=itemgetter(1), reverse=True)[0: k]:\n",
    "        for i in dicc[v]:\n",
    "            if i in dicc[v]:\n",
    "                if i in interacted_items:\n",
    "                    continue\n",
    "                if i not in rank.keys():\n",
    "                    rank[i] = 0\n",
    "                rank[i] += wuv * rvi\n",
    "    return rank\n",
    "\n",
    "prefs, movies = load_movielens()\n",
    "w = usersim(prefs)\n",
    "last = match('176', prefs, w, 3)\n",
    "print(last)\n"
   ]
  },
  {
   "cell_type": "code",
   "execution_count": null,
   "metadata": {
    "collapsed": true
   },
   "outputs": [],
   "source": []
  }
 ],
 "metadata": {
  "kernelspec": {
   "display_name": "Python 3",
   "language": "python",
   "name": "python3"
  },
  "language_info": {
   "codemirror_mode": {
    "name": "ipython",
    "version": 3
   },
   "file_extension": ".py",
   "mimetype": "text/x-python",
   "name": "python",
   "nbconvert_exporter": "python",
   "pygments_lexer": "ipython3",
   "version": "3.6.0"
  }
 },
 "nbformat": 4,
 "nbformat_minor": 2
}
